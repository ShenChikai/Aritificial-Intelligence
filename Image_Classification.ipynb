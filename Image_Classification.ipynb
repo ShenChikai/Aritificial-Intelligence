{
  "nbformat": 4,
  "nbformat_minor": 0,
  "metadata": {
    "colab": {
      "name": "Image_Classification.ipynb",
      "provenance": [],
      "collapsed_sections": [],
      "include_colab_link": true
    },
    "kernelspec": {
      "name": "python3",
      "display_name": "Python 3"
    },
    "accelerator": "GPU"
  },
  "cells": [
    {
      "cell_type": "markdown",
      "metadata": {
        "id": "view-in-github",
        "colab_type": "text"
      },
      "source": [
        "<a href=\"https://colab.research.google.com/github/ShenChikai/Aritificial-Intelligence/blob/main/Image_Classification.ipynb\" target=\"_parent\"><img src=\"https://colab.research.google.com/assets/colab-badge.svg\" alt=\"Open In Colab\"/></a>"
      ]
    },
    {
      "cell_type": "markdown",
      "metadata": {
        "id": "ZgRTplbCjjTE"
      },
      "source": [
        "<center> <h1> Neural Networks for Image Classification </h1> </center>\n",
        "\n",
        "In this homework, we will train a convolutional neural network on a Cifar-10 dataset.\n",
        "\n",
        "More specifically, we will:\n",
        "1. Implement an image classification model based on CNN.\n",
        "2. Train it on Cifar-10 dataset.\n",
        "3. Apply different optimizers, learning rate scheduling and try different architectures.\n",
        "4. Add random augmentations to our dataset.\n",
        "5. Allow you to participate in inclass kaggle competition so that you can compete by trying to find the best model and its training hyperparameters like learning rate, batch size and architecture.\n",
        "\n",
        "#### Google colaboratory\n",
        "\n",
        "Before getting started, get familiar with google colaboratory:\n",
        "https://colab.research.google.com/notebooks/welcome.ipynb\n",
        "\n",
        "This is a neat python environment that works in the cloud and does not require you to\n",
        "set up anything on your personal machine\n",
        "(it also has some built-in IDE features that make writing code easier).\n",
        "Moreover, it allows you to copy any existing collaboratory file, alter it and share\n",
        "with other people. In this homework, we will ask you to copy current colaboraty,\n",
        "complete all the tasks and share your colaboratory notebook with us so\n",
        "that we can grade it.\n",
        "\n",
        "#### Submission\n",
        "\n",
        "Before you start working on this homework do the following steps:\n",
        "\n",
        "1. Press __File > Save a copy in Drive...__ tab. This will allow you to have your own copy and change it.\n",
        "2. Follow all the steps in this collaboratory file and write/change/uncomment code as necessary.\n",
        "3. Do not forget to occasionally press __File > Save__ tab to save your progress.\n",
        "4. After all the changes are done and progress is saved press __Share__ button (top right corner of the page), press __get shareable link__ and make sure you have the option __Anyone with the link can view__ selected.\n",
        "5. Paste the link into your submission pdf file so that we can view it and grade.\n",
        "\n",
        "#### GPU Usage\n",
        "\n",
        "Before you start working on this homework do the following steps:\n",
        "\n",
        "1. Press __Runtime > Change Runtime...__ tab. This will allow you to choose if you want to use GPU or TPU or just CPU only.\n",
        "2. For this assignment select GPU. We will need it for our network to train faster.\n",
        "\n",
        "#### Kaggle Competition Registration and Submission\n",
        "\n",
        "1. Follow this link and create account on kaggle and register for the compeition:\n",
        "https://www.kaggle.com/t/73bf90acaef64d5db91d5e74028270c7\n",
        "2. During training of your network a ```csv``` file with your predictions on the test set is being saved. You can find it and download it if you press on the folder icon on the left of your page.\n",
        "3. Once your model is fully trained and you are satisfied with your results on the validation dataset, download this file and upload your submission to kaggle and it will evaluate your results on the test set. Your submission will be ranked amond all classmates.\n",
        "\n",
        "\n",
        "<center> <h2> Problem statement </h2> </center>\n",
        "\n",
        "In this homework we will train convolutional neural network image dataset of with ten classes. We will follow the best practices of training and split our dataset into three parts: training set, validation set and test set. We will experiment with the neural network architecture, training parameters like learning rate, learning rate scheduling, batch size, image augmentations, number of epochs of training.\n",
        "\n",
        "<center> <h2> Cifar-10 dataset </h2> </center>\n",
        "\n",
        "For our experiments we will use a subset of [Cifar-10 dataset](https://www.cs.toronto.edu/~kriz/cifar.html) which contains images of ten diverse classes of objects.\n",
        "\n",
        "\n",
        "\n",
        "![alt text](https://storage.googleapis.com/kaggle-competitions/kaggle/3649/media/cifar-10.png \"Logo Title Text 1\")\n",
        "\n",
        "<center> <h2> Additional learning resources </h2> </center>\n",
        "\n",
        "To get a better understanding of Pytorch and to try even simpler neural network architectures on cifar-10 go through these resources. Ideally you should have a basic understanding of tensors, how optimization is performed, loss functions and how to create a model in pytorch.\n",
        "\n",
        "1. https://pytorch.org/tutorials/beginner/deep_learning_60min_blitz.html\n",
        "2. https://colab.research.google.com/drive/1aRhjKyRfuH4C9K1GbTTrM1cswQ0zICbI?usp=sharing"
      ]
    },
    {
      "cell_type": "code",
      "metadata": {
        "colab": {
          "base_uri": "https://localhost:8080/"
        },
        "id": "9oNrfTH3ejtL",
        "outputId": "fd10d285-4fa3-4998-98de-3a71c1af755c"
      },
      "source": [
        "# Run this to install a dependency\n",
        "!pip install livelossplot==0.3.4"
      ],
      "execution_count": null,
      "outputs": [
        {
          "output_type": "stream",
          "name": "stdout",
          "text": [
            "Requirement already satisfied: livelossplot==0.3.4 in /usr/local/lib/python3.7/dist-packages (0.3.4)\n",
            "Requirement already satisfied: matplotlib in /usr/local/lib/python3.7/dist-packages (from livelossplot==0.3.4) (3.2.2)\n",
            "Requirement already satisfied: notebook in /usr/local/lib/python3.7/dist-packages (from livelossplot==0.3.4) (5.3.1)\n",
            "Requirement already satisfied: cycler>=0.10 in /usr/local/lib/python3.7/dist-packages (from matplotlib->livelossplot==0.3.4) (0.11.0)\n",
            "Requirement already satisfied: pyparsing!=2.0.4,!=2.1.2,!=2.1.6,>=2.0.1 in /usr/local/lib/python3.7/dist-packages (from matplotlib->livelossplot==0.3.4) (3.0.8)\n",
            "Requirement already satisfied: kiwisolver>=1.0.1 in /usr/local/lib/python3.7/dist-packages (from matplotlib->livelossplot==0.3.4) (1.4.2)\n",
            "Requirement already satisfied: numpy>=1.11 in /usr/local/lib/python3.7/dist-packages (from matplotlib->livelossplot==0.3.4) (1.21.6)\n",
            "Requirement already satisfied: python-dateutil>=2.1 in /usr/local/lib/python3.7/dist-packages (from matplotlib->livelossplot==0.3.4) (2.8.2)\n",
            "Requirement already satisfied: typing-extensions in /usr/local/lib/python3.7/dist-packages (from kiwisolver>=1.0.1->matplotlib->livelossplot==0.3.4) (4.1.1)\n",
            "Requirement already satisfied: six>=1.5 in /usr/local/lib/python3.7/dist-packages (from python-dateutil>=2.1->matplotlib->livelossplot==0.3.4) (1.15.0)\n",
            "Requirement already satisfied: nbconvert in /usr/local/lib/python3.7/dist-packages (from notebook->livelossplot==0.3.4) (5.6.1)\n",
            "Requirement already satisfied: jupyter-client>=5.2.0 in /usr/local/lib/python3.7/dist-packages (from notebook->livelossplot==0.3.4) (5.3.5)\n",
            "Requirement already satisfied: ipykernel in /usr/local/lib/python3.7/dist-packages (from notebook->livelossplot==0.3.4) (4.10.1)\n",
            "Requirement already satisfied: ipython-genutils in /usr/local/lib/python3.7/dist-packages (from notebook->livelossplot==0.3.4) (0.2.0)\n",
            "Requirement already satisfied: jinja2 in /usr/local/lib/python3.7/dist-packages (from notebook->livelossplot==0.3.4) (2.11.3)\n",
            "Requirement already satisfied: terminado>=0.8.1 in /usr/local/lib/python3.7/dist-packages (from notebook->livelossplot==0.3.4) (0.13.3)\n",
            "Requirement already satisfied: nbformat in /usr/local/lib/python3.7/dist-packages (from notebook->livelossplot==0.3.4) (5.3.0)\n",
            "Requirement already satisfied: traitlets>=4.2.1 in /usr/local/lib/python3.7/dist-packages (from notebook->livelossplot==0.3.4) (5.1.1)\n",
            "Requirement already satisfied: tornado>=4 in /usr/local/lib/python3.7/dist-packages (from notebook->livelossplot==0.3.4) (5.1.1)\n",
            "Requirement already satisfied: Send2Trash in /usr/local/lib/python3.7/dist-packages (from notebook->livelossplot==0.3.4) (1.8.0)\n",
            "Requirement already satisfied: jupyter-core>=4.4.0 in /usr/local/lib/python3.7/dist-packages (from notebook->livelossplot==0.3.4) (4.9.2)\n",
            "Requirement already satisfied: pyzmq>=13 in /usr/local/lib/python3.7/dist-packages (from jupyter-client>=5.2.0->notebook->livelossplot==0.3.4) (22.3.0)\n",
            "Requirement already satisfied: ptyprocess in /usr/local/lib/python3.7/dist-packages (from terminado>=0.8.1->notebook->livelossplot==0.3.4) (0.7.0)\n",
            "Requirement already satisfied: ipython>=4.0.0 in /usr/local/lib/python3.7/dist-packages (from ipykernel->notebook->livelossplot==0.3.4) (5.5.0)\n",
            "Requirement already satisfied: pickleshare in /usr/local/lib/python3.7/dist-packages (from ipython>=4.0.0->ipykernel->notebook->livelossplot==0.3.4) (0.7.5)\n",
            "Requirement already satisfied: setuptools>=18.5 in /usr/local/lib/python3.7/dist-packages (from ipython>=4.0.0->ipykernel->notebook->livelossplot==0.3.4) (57.4.0)\n",
            "Requirement already satisfied: simplegeneric>0.8 in /usr/local/lib/python3.7/dist-packages (from ipython>=4.0.0->ipykernel->notebook->livelossplot==0.3.4) (0.8.1)\n",
            "Requirement already satisfied: pexpect in /usr/local/lib/python3.7/dist-packages (from ipython>=4.0.0->ipykernel->notebook->livelossplot==0.3.4) (4.8.0)\n",
            "Requirement already satisfied: decorator in /usr/local/lib/python3.7/dist-packages (from ipython>=4.0.0->ipykernel->notebook->livelossplot==0.3.4) (4.4.2)\n",
            "Requirement already satisfied: pygments in /usr/local/lib/python3.7/dist-packages (from ipython>=4.0.0->ipykernel->notebook->livelossplot==0.3.4) (2.6.1)\n",
            "Requirement already satisfied: prompt-toolkit<2.0.0,>=1.0.4 in /usr/local/lib/python3.7/dist-packages (from ipython>=4.0.0->ipykernel->notebook->livelossplot==0.3.4) (1.0.18)\n",
            "Requirement already satisfied: wcwidth in /usr/local/lib/python3.7/dist-packages (from prompt-toolkit<2.0.0,>=1.0.4->ipython>=4.0.0->ipykernel->notebook->livelossplot==0.3.4) (0.2.5)\n",
            "Requirement already satisfied: MarkupSafe>=0.23 in /usr/local/lib/python3.7/dist-packages (from jinja2->notebook->livelossplot==0.3.4) (2.0.1)\n",
            "Requirement already satisfied: pandocfilters>=1.4.1 in /usr/local/lib/python3.7/dist-packages (from nbconvert->notebook->livelossplot==0.3.4) (1.5.0)\n",
            "Requirement already satisfied: defusedxml in /usr/local/lib/python3.7/dist-packages (from nbconvert->notebook->livelossplot==0.3.4) (0.7.1)\n",
            "Requirement already satisfied: mistune<2,>=0.8.1 in /usr/local/lib/python3.7/dist-packages (from nbconvert->notebook->livelossplot==0.3.4) (0.8.4)\n",
            "Requirement already satisfied: entrypoints>=0.2.2 in /usr/local/lib/python3.7/dist-packages (from nbconvert->notebook->livelossplot==0.3.4) (0.4)\n",
            "Requirement already satisfied: bleach in /usr/local/lib/python3.7/dist-packages (from nbconvert->notebook->livelossplot==0.3.4) (5.0.0)\n",
            "Requirement already satisfied: testpath in /usr/local/lib/python3.7/dist-packages (from nbconvert->notebook->livelossplot==0.3.4) (0.6.0)\n",
            "Requirement already satisfied: fastjsonschema in /usr/local/lib/python3.7/dist-packages (from nbformat->notebook->livelossplot==0.3.4) (2.15.3)\n",
            "Requirement already satisfied: jsonschema>=2.6 in /usr/local/lib/python3.7/dist-packages (from nbformat->notebook->livelossplot==0.3.4) (4.3.3)\n",
            "Requirement already satisfied: importlib-metadata in /usr/local/lib/python3.7/dist-packages (from jsonschema>=2.6->nbformat->notebook->livelossplot==0.3.4) (4.11.3)\n",
            "Requirement already satisfied: attrs>=17.4.0 in /usr/local/lib/python3.7/dist-packages (from jsonschema>=2.6->nbformat->notebook->livelossplot==0.3.4) (21.4.0)\n",
            "Requirement already satisfied: importlib-resources>=1.4.0 in /usr/local/lib/python3.7/dist-packages (from jsonschema>=2.6->nbformat->notebook->livelossplot==0.3.4) (5.7.0)\n",
            "Requirement already satisfied: pyrsistent!=0.17.0,!=0.17.1,!=0.17.2,>=0.14.0 in /usr/local/lib/python3.7/dist-packages (from jsonschema>=2.6->nbformat->notebook->livelossplot==0.3.4) (0.18.1)\n",
            "Requirement already satisfied: zipp>=3.1.0 in /usr/local/lib/python3.7/dist-packages (from importlib-resources>=1.4.0->jsonschema>=2.6->nbformat->notebook->livelossplot==0.3.4) (3.8.0)\n",
            "Requirement already satisfied: webencodings in /usr/local/lib/python3.7/dist-packages (from bleach->nbconvert->notebook->livelossplot==0.3.4) (0.5.1)\n"
          ]
        }
      ]
    },
    {
      "cell_type": "code",
      "metadata": {
        "colab": {
          "base_uri": "https://localhost:8080/"
        },
        "id": "xPgNjDRWWNBB",
        "outputId": "6c80b23d-d48a-4a18-9845-7f93cbdf8039"
      },
      "source": [
        "import torch\n",
        "\n",
        "import torchvision\n",
        "import torchvision.transforms as transforms\n",
        "\n",
        "import torch.nn as nn\n",
        "import torch.optim as optim\n",
        "import numpy as np\n",
        "\n",
        "from torch.utils.data import Subset\n",
        "\n",
        "import torch.nn as nn\n",
        "import torch.nn.functional as F\n",
        "\n",
        "# Our simple convolutional neural network which can allow you to get a\n",
        "# decent accuracy. It consists of a convolutional layers, pooling layer\n",
        "# and fully connected layer (nn.Linear).\n",
        "class CNN(nn.Module):\n",
        "    def __init__(self):\n",
        "        super(CNN, self).__init__()\n",
        "        # Credit to Siddharth1698 at https://www.analyticsvidhya.com/blog/2021/09/convolutional-neural-network-pytorch-implementation-on-cifar10-dataset/\n",
        "        self.conv1 = nn.Conv2d(3, 32, kernel_size=3, padding=1)\n",
        "        self.conv2 = nn.Conv2d(32, 64, kernel_size=3, stride=1, padding=1)\n",
        "        self.batchNorm1 = nn.BatchNorm2d(64)\n",
        "\n",
        "        self.conv3 = nn.Conv2d(64, 128, kernel_size=3, stride=1, padding=1)\n",
        "        self.conv4 = nn.Conv2d(128, 128, kernel_size=3, stride=1, padding=1)\n",
        "        self.batchNorm2 = nn.BatchNorm2d(128)\n",
        "\n",
        "        self.conv5 = nn.Conv2d(128, 256, kernel_size=3, stride=1, padding=1)\n",
        "        self.conv6 = nn.Conv2d(256, 256, kernel_size=3, stride=1, padding=1)\n",
        "        self.batchNorm3 = nn.BatchNorm2d(256)\n",
        "\n",
        "        self.pool = nn.MaxPool2d(2, 2)\n",
        "        self.flatten = nn.Flatten()\n",
        "\n",
        "        self.fc1 = nn.Linear(256*4*4, 1024)\n",
        "        self.fc2 = nn.Linear(1024, 512)\n",
        "        self.fc3 = nn.Linear(512, 10)\n",
        "        \n",
        "\n",
        "    def forward(self, x):\n",
        "        x = self.conv1(x)\n",
        "        x = F.relu(x)\n",
        "        x = self.conv2(x)\n",
        "        x = F.relu(x)\n",
        "        x = self.pool(x)\n",
        "        x = self.batchNorm1(x)\n",
        "\n",
        "        x = self.conv3(x)\n",
        "        x = F.relu(x)\n",
        "        x = self.conv4(x)\n",
        "        x = F.relu(x)\n",
        "        x = self.pool(x)\n",
        "        x = self.batchNorm2(x)\n",
        "\n",
        "        x = self.conv5(x)\n",
        "        x = F.relu(x)\n",
        "        x = self.conv6(x)\n",
        "        x = F.relu(x)\n",
        "        x = self.pool(x)\n",
        "        x = self.batchNorm3(x)\n",
        "\n",
        "        x = self.flatten(x)\n",
        "        x = F.relu(self.fc1(x))\n",
        "        x = F.relu(self.fc2(x))\n",
        "        x = self.fc3(x)\n",
        "\n",
        "        # x = self.pool(F.relu(self.batchNorm1(self.conv1(x))))\n",
        "        # x = self.pool(F.relu(self.batchNorm2(self.conv2(x))))\n",
        "        # x = x.view(-1, 16 * 5 * 5)\n",
        "        # x = F.relu(self.fc1(x))\n",
        "        # x = F.relu(self.fc2(x))\n",
        "        # x = self.fc3(x)\n",
        "        return x\n",
        "\n",
        "# Here we define transformation that we will apply to our images\n",
        "# during training. So far we have a random crop, horizontal flip and normalization.\n",
        "# Normalization is not an augmentation but a common practice when working with images,\n",
        "# we are subtracting the average RGB pixel value from each pixel of image and dividing by\n",
        "# the standart deviation of RGB value in the dataset.\n",
        "transform_train = transforms.Compose([\n",
        "    transforms.RandomCrop(32, padding=4),\n",
        "    transforms.RandomHorizontalFlip(),\n",
        "    transforms.ToTensor(),\n",
        "    transforms.Normalize((0.4914, 0.4822, 0.4465), (0.2023, 0.1994, 0.2010)),\n",
        "])\n",
        "\n",
        "\n",
        "transform_test = transforms.Compose([\n",
        "    transforms.ToTensor(),\n",
        "    transforms.Normalize((0.4914, 0.4822, 0.4465), (0.2023, 0.1994, 0.2010)),\n",
        "])\n",
        "\n",
        "trainset = torchvision.datasets.CIFAR10(root='./data', train=True, download=True, transform=transform_train)\n",
        "\n",
        "# Batch size can be set here.\n",
        "trainloader = torch.utils.data.DataLoader(trainset,\n",
        "                                          batch_size=256,\n",
        "                                          shuffle=True,\n",
        "                                          num_workers=4,\n",
        "                                          drop_last=True)\n",
        "\n",
        "test_and_val_set = torchvision.datasets.CIFAR10(root='./data',\n",
        "                                       train=False,\n",
        "                                       download=True,\n",
        "                                       transform=transform_test)\n",
        "\n",
        "# Splitting our dataset into valset and test set.\n",
        "# Valset will be used to monitor our accuracy during training and test set\n",
        "# will be used to submit your final results to kaggle. It is common for machine\n",
        "# learning to split dataset into train/val/test and is considered a best practice.\n",
        "indices = np.arange(len(test_and_val_set))\n",
        "val_set = Subset(test_and_val_set, indices[:5000])\n",
        "test_set = Subset(test_and_val_set, indices[5000:])\n",
        "\n",
        "val_set_loader = torch.utils.data.DataLoader(val_set, batch_size=256, shuffle=False, num_workers=2)\n",
        "test_set_loader = torch.utils.data.DataLoader(test_set, batch_size=256, shuffle=False, num_workers=2)\n",
        "\n",
        "# Here we define our loss function which is cross entropy -- a common loss function when\n",
        "# working with classification problems.\n",
        "criterion = nn.CrossEntropyLoss().cuda()\n",
        "\n",
        "# Here we are defining our network, putting it on GPU and set it up into a training mode.\n",
        "# Training mode is needed when some special layers are used like Batch normalization or dropout,\n",
        "# since they have different behaviour during training and evaluation of our network.\n",
        "net = CNN()\n",
        "net = net.cuda()\n",
        "net.train()\n",
        "\n",
        "# Here we define our optimizer and learning rate. Other optimizers can be used like Adam\n",
        "# and you can experiment with them -- although you will have to carefully choose learning rate\n",
        "# in that case.\n",
        "# optimizer = optim.SGD(net.parameters(), lr=0.1, momentum=0.9)\n",
        "optimizer = torch.optim.Adam(net.parameters(), lr=0.01, weight_decay=0.0005)\n",
        "\n",
        "# Below we define a validation function which will be run after each epoch to\n",
        "# see if accuracy of our model improved or worsened.\n",
        "def validate():\n",
        "    \n",
        "    net.eval()\n",
        "    \n",
        "    counter = 0\n",
        "    correctly_predicted_counter = 0\n",
        "\n",
        "    with torch.no_grad():\n",
        "\n",
        "        for batch_idx, (inputs, targets) in enumerate(val_set_loader):\n",
        "\n",
        "            inputs, targets = inputs.cuda(), targets.cuda()\n",
        "\n",
        "            outputs = net(inputs)\n",
        "            _, predicted_classes = outputs.max(1)\n",
        "\n",
        "            counter += targets.size(0)\n",
        "            correctly_predicted_counter += (predicted_classes == targets).sum().item()\n",
        "    \n",
        "    accuracy = float(correctly_predicted_counter) / counter\n",
        "    \n",
        "    predicted_classes_list = []\n",
        "\n",
        "    with torch.no_grad():\n",
        "        for batch_idx, (inputs, targets) in enumerate(test_set_loader):\n",
        "            inputs, targets = inputs.cuda(), targets.cuda()\n",
        "            outputs = net(inputs)\n",
        "            _, predicted_classes = outputs.max(1)\n",
        "            predicted_classes_list += list(map(lambda x: str(x), predicted_classes.cpu().detach().numpy().tolist()))\n",
        "\n",
        "    predicted_classes_list = list(enumerate(predicted_classes_list))\n",
        "    \n",
        "    net.train()\n",
        "    \n",
        "    return accuracy, predicted_classes_list"
      ],
      "execution_count": null,
      "outputs": [
        {
          "output_type": "stream",
          "name": "stdout",
          "text": [
            "Files already downloaded and verified\n"
          ]
        },
        {
          "output_type": "stream",
          "name": "stderr",
          "text": [
            "/usr/local/lib/python3.7/dist-packages/torch/utils/data/dataloader.py:481: UserWarning: This DataLoader will create 4 worker processes in total. Our suggested max number of worker in current system is 2, which is smaller than what this DataLoader is going to create. Please be aware that excessive worker creation might get DataLoader running slow or even freeze, lower the worker number to avoid potential slowness/freeze if necessary.\n",
            "  cpuset_checked))\n"
          ]
        },
        {
          "output_type": "stream",
          "name": "stdout",
          "text": [
            "Files already downloaded and verified\n"
          ]
        }
      ]
    },
    {
      "cell_type": "code",
      "metadata": {
        "colab": {
          "base_uri": "https://localhost:8080/"
        },
        "id": "cY1p0-n_W-oQ",
        "outputId": "222a1d18-4b8e-432d-d323-71953fbe97ce"
      },
      "source": [
        "# If you just put a variable containing your model in a cell and run it\n",
        "# it will output your network structure. Useful for debugging.\n",
        "net"
      ],
      "execution_count": null,
      "outputs": [
        {
          "output_type": "execute_result",
          "data": {
            "text/plain": [
              "CNN(\n",
              "  (conv1): Conv2d(3, 32, kernel_size=(3, 3), stride=(1, 1), padding=(1, 1))\n",
              "  (conv2): Conv2d(32, 64, kernel_size=(3, 3), stride=(1, 1), padding=(1, 1))\n",
              "  (batchNorm1): BatchNorm2d(64, eps=1e-05, momentum=0.1, affine=True, track_running_stats=True)\n",
              "  (conv3): Conv2d(64, 128, kernel_size=(3, 3), stride=(1, 1), padding=(1, 1))\n",
              "  (conv4): Conv2d(128, 128, kernel_size=(3, 3), stride=(1, 1), padding=(1, 1))\n",
              "  (batchNorm2): BatchNorm2d(128, eps=1e-05, momentum=0.1, affine=True, track_running_stats=True)\n",
              "  (conv5): Conv2d(128, 256, kernel_size=(3, 3), stride=(1, 1), padding=(1, 1))\n",
              "  (conv6): Conv2d(256, 256, kernel_size=(3, 3), stride=(1, 1), padding=(1, 1))\n",
              "  (batchNorm3): BatchNorm2d(256, eps=1e-05, momentum=0.1, affine=True, track_running_stats=True)\n",
              "  (pool): MaxPool2d(kernel_size=2, stride=2, padding=0, dilation=1, ceil_mode=False)\n",
              "  (flatten): Flatten(start_dim=1, end_dim=-1)\n",
              "  (fc1): Linear(in_features=4096, out_features=1024, bias=True)\n",
              "  (fc2): Linear(in_features=1024, out_features=512, bias=True)\n",
              "  (fc3): Linear(in_features=512, out_features=10, bias=True)\n",
              ")"
            ]
          },
          "metadata": {},
          "execution_count": 59
        }
      ]
    },
    {
      "cell_type": "code",
      "metadata": {
        "colab": {
          "base_uri": "https://localhost:8080/",
          "height": 436
        },
        "id": "GC_R2u4yYLnw",
        "outputId": "969a8466-572e-4d0f-a032-4b400306be2d"
      },
      "source": [
        "%matplotlib inline\n",
        "\n",
        "from livelossplot import PlotLosses\n",
        "\n",
        "liveloss = PlotLosses()\n",
        "\n",
        "import time\n",
        "import pandas as pd\n",
        "\n",
        "best_accuracy = 0.0\n",
        "\n",
        "start = time.time()\n",
        "\n",
        "\n",
        "for epoch_number in range(100):\n",
        "    \n",
        "    train_loss_list = []\n",
        "\n",
        "    for batch_idx, (inputs, targets) in enumerate(trainloader):\n",
        "\n",
        "        inputs, targets = inputs.cuda(), targets.cuda()\n",
        "\n",
        "        optimizer.zero_grad()\n",
        "\n",
        "        outputs = net(inputs)\n",
        "        loss = criterion(outputs, targets)\n",
        "        loss.backward()\n",
        "        optimizer.step()\n",
        "\n",
        "        train_loss_list.append(loss.data.item())\n",
        "    \n",
        "    if epoch_number == 20:\n",
        "\n",
        "        for param_group in optimizer.param_groups:\n",
        "\n",
        "            param_group['lr'] = 0.01\n",
        "\n",
        "    if epoch_number == 40:\n",
        "\n",
        "        for param_group in optimizer.param_groups:\n",
        "\n",
        "            param_group['lr'] = 0.001\n",
        "        \n",
        "        \n",
        "        \n",
        "    current_accuracy, predicted_classes_list = validate()\n",
        "\n",
        "    liveloss.update({'Average Training Batch Loss': sum(train_loss_list) / len(train_loss_list),\n",
        "                     'Validation Accuracy': current_accuracy})\n",
        "    liveloss.draw()\n",
        "\n",
        "    if current_accuracy > best_accuracy:\n",
        "\n",
        "        print(current_accuracy)\n",
        "        best_accuracy = current_accuracy\n",
        "        torch.save(net.state_dict(), 'resnet_20_cifar10_kaggle.pth')\n",
        "        # Saving best predictions so far\n",
        "        submission_df = pd.DataFrame(predicted_classes_list, columns = ['Id', 'Category'])\n",
        "        submission_df = submission_df['Category']\n",
        "        submission_df = submission_df.replace(0)\n",
        "        submission_df = pd.DataFrame(submission_df)\n",
        "        submission_df['Id'] = submission_df.index\n",
        "        submission_df = submission_df[['Id', 'Category']]\n",
        "        submission_df.to_csv('cifar_10_best_submission.csv', index=False)\n",
        "        \n",
        "end = time.time()\n",
        "print(end - start)\n",
        "\n",
        "# Below you can observe drop in the training loss at some point and increase in the validation accuracy.\n",
        "# This is the place where we decreased the learning rate."
      ],
      "execution_count": null,
      "outputs": [
        {
          "output_type": "display_data",
          "data": {
            "text/plain": [
              "<Figure size 864x576 with 2 Axes>"
            ],
            "image/png": "[encoded data removed]"
          },
          "metadata": {
            "needs_background": "light"
          }
        },
        {
          "output_type": "stream",
          "name": "stdout",
          "text": [
            "Average Training Batch Loss:\n",
            "training   (min:    0.252, max:    1.907, cur:    0.252)\n",
            "\n",
            "Validation Accuracy:\n",
            "training   (min:    0.442, max:    0.872, cur:    0.865)\n",
            "1815.4901547431946\n"
          ]
        }
      ]
    },
    {
      "cell_type": "code",
      "metadata": {
        "colab": {
          "base_uri": "https://localhost:8080/"
        },
        "id": "nqhrKAysaW3C",
        "outputId": "4bae9cf6-d063-4556-f260-30d3a66cc252"
      },
      "source": [
        "best_accuracy"
      ],
      "execution_count": null,
      "outputs": [
        {
          "output_type": "execute_result",
          "data": {
            "text/plain": [
              "0.8716"
            ]
          },
          "metadata": {},
          "execution_count": 63
        }
      ]
    },
    {
      "cell_type": "markdown",
      "metadata": {
        "id": "Ycf-8Z5isgY_"
      },
      "source": [
        "#### Kaggle Competition\n",
        "\n",
        "To submit your results to Kaggle:\n",
        "\n",
        "1. Create a kaggle account.\n",
        "2. Follow the  [link](https://www.kaggle.com/t/73bf90acaef64d5db91d5e74028270c7) to join the competion.\n",
        "3. After your code completes, press on the \"files\" button and download ```cifar_10_best_submission.csv``` file and upload it to kaggle to evaluate it on the test dataset.\n",
        "\n",
        "\n",
        "#### Additional experiments\n",
        "\n",
        "To improve your model further try to:\n",
        "\n",
        "1. Increase the number of filters.\n",
        "2. Increate the number of layers.\n",
        "3. Choose different architecture, for example a deep residual network:\n",
        "https://arxiv.org/pdf/1512.03385.pdf\n",
        "4. Top three submissions will present their solutions to the class and will potentially get bonus points."
      ]
    }
  ]
}